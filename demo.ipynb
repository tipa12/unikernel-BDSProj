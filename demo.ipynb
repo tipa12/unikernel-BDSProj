{
 "cells": [
  {
   "cell_type": "code",
   "execution_count": 5,
   "metadata": {},
   "outputs": [
    {
     "name": "stdout",
     "output_type": "stream",
     "text": [
      "Published message to topic: datapipeline\n"
     ]
    }
   ],
   "source": [
    "from google.cloud import pubsub_v1\n",
    "import json\n",
    "\n",
    "# Your Google Cloud project ID\n",
    "project_id = \"bdspro\"\n",
    "\n",
    "# The name of the Pub/Sub topic\n",
    "topic_name = \"datapipeline\"\n",
    "\n",
    "# Create a publisher client\n",
    "publisher = pubsub_v1.PublisherClient()\n",
    "\n",
    "# The data to publish (as a Python dictionary)\n",
    "data = {\"key1\": \"value1\", \"key2\": \"value2\"}\n",
    "data = json.dumps(data).encode()\n",
    "\n",
    "# Publish the message\n",
    "topic_path = publisher.topic_path(project_id, topic_name)\n",
    "publisher.publish(topic_path, data=data)\n",
    "\n",
    "print(\"Published message to topic: {}\".format(topic_name))"
   ]
  },
  {
   "cell_type": "code",
   "execution_count": 8,
   "metadata": {},
   "outputs": [],
   "source": [
    "import time\n",
    "from google.cloud import pubsub_v1\n",
    "from google.api_core.exceptions import AlreadyExists\n",
    "import os\n",
    "\n",
    "# Your Google Cloud project ID\n",
    "project_id = \"bdspro\"\n",
    "\n",
    "# The name of the Pub/Sub topic\n",
    "topic_name = \"dataServicePipeline\"\n",
    "\n",
    "# The name of the subscription\n",
    "subscription_name = \"dataServicePipeline-sub\""
   ]
  },
  {
   "cell_type": "code",
   "execution_count": 9,
   "metadata": {},
   "outputs": [
    {
     "name": "stdout",
     "output_type": "stream",
     "text": [
      "Listening for messages on projects/bdspro/subscriptions/dataServicePipeline-sub...\n",
      "Received message: Message {\n",
      "  data: b'{\"unikernelFunction\": \"filter\", \"datasetId\": \"blab...'\n",
      "  ordering_key: ''\n",
      "  attributes: {\n",
      "    \"functionName\": \"evaluateDataset\"\n",
      "  }\n",
      "}\n"
     ]
    }
   ],
   "source": [
    "# create a subscriber client\n",
    "subscriber = pubsub_v1.SubscriberClient()\n",
    "\n",
    "# use the subscriber client to create a subscription and a callback\n",
    "def callback(message):\n",
    "    print(\"Received message: {}\".format(message))\n",
    "    message.ack()\n",
    "\n",
    "# create a full path to the topic\n",
    "topic_path = subscriber.topic_path(project_id, topic_name)\n",
    "\n",
    "# create a full path to the subscription\n",
    "subscription_path = subscriber.subscription_path(project_id, subscription_name)\n",
    "\n",
    "# create the subscription\n",
    "#try:\n",
    "#    subscriber.create_subscription(subscription_path, topic_path)\n",
    "#except AlreadyExists:\n",
    "#    pass\n",
    "\n",
    "# subscribe to the subscription\n",
    "future = subscriber.subscribe(subscription_path, callback)\n",
    "\n",
    "print(\"Listening for messages on {}...\".format(subscription_path))\n",
    "\n",
    "# keep the main thread from exiting\n",
    "try:\n",
    "    while True:\n",
    "        time.sleep(60)\n",
    "except KeyboardInterrupt:\n",
    "    future.cancel()\n",
    "\n",
    "# [END pubsub_subscriber_async_pull]"
   ]
  },
  {
   "cell_type": "code",
   "execution_count": null,
   "metadata": {},
   "outputs": [],
   "source": []
  }
 ],
 "metadata": {
  "kernelspec": {
   "display_name": "unikernel",
   "language": "python",
   "name": "python3"
  },
  "language_info": {
   "codemirror_mode": {
    "name": "ipython",
    "version": 3
   },
   "file_extension": ".py",
   "mimetype": "text/x-python",
   "name": "python",
   "nbconvert_exporter": "python",
   "pygments_lexer": "ipython3",
   "version": "3.9.15 (main, Nov 24 2022, 08:29:02) \n[Clang 14.0.6 ]"
  },
  "orig_nbformat": 4,
  "vscode": {
   "interpreter": {
    "hash": "93582215d80c23309b984e04f31fb02d873f08885dc65d6e31e1df0414a32ca8"
   }
  }
 },
 "nbformat": 4,
 "nbformat_minor": 2
}
