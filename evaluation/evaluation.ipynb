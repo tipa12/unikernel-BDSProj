{
 "cells": [
  {
   "cell_type": "code",
   "execution_count": null,
   "metadata": {},
   "outputs": [],
   "source": [
    "import matplotlib.pyplot as plt\n",
    "\n",
    "import analysis\n",
    "import experiment"
   ]
  },
  {
   "cell_type": "code",
   "execution_count": null,
   "metadata": {},
   "outputs": [],
   "source": [
    "# Important: Define experiment id here\n",
    "id = ''"
   ]
  },
  {
   "cell_type": "code",
   "execution_count": null,
   "metadata": {},
   "outputs": [],
   "source": [
    "experiment = experiment.load_experiment(id)"
   ]
  },
  {
   "cell_type": "code",
   "execution_count": null,
   "metadata": {},
   "outputs": [],
   "source": [
    "recv_latencies = analysis.get_recv_latency(experiment)\n",
    "plt.plot(recv_latencies)\n",
    "plt.title('Receive latency (log scale)')\n",
    "plt.yscale('log')\n",
    "plt.ylabel('recv latency (ms)')\n",
    "plt.xlabel('number of tuples')\n",
    "plt.grid()\n",
    "plt.savefig(f'{id}/recv.pdf')\n",
    "plt.show()"
   ]
  },
  {
   "cell_type": "code",
   "execution_count": null,
   "metadata": {},
   "outputs": [],
   "source": [
    "send_latencies = analysis.get_send_latency(experiment)\n",
    "plt.plot(send_latencies)\n",
    "plt.title('Send latency (log scale)')\n",
    "plt.yscale('log')\n",
    "plt.ylabel('send latency (ms)')\n",
    "plt.xlabel('number of tuples')\n",
    "plt.grid()\n",
    "plt.savefig(f'{id}/send.pdf')\n",
    "plt.show()"
   ]
  },
  {
   "cell_type": "code",
   "execution_count": null,
   "metadata": {},
   "outputs": [],
   "source": [
    "print('Number of dropped tuples:', analysis.get_number_of_dropped_tuples(experiment))"
   ]
  }
 ],
 "metadata": {
  "kernelspec": {
   "display_name": "Python 3",
   "language": "python",
   "name": "python3"
  },
  "language_info": {
   "codemirror_mode": {
    "name": "ipython",
    "version": 3
   },
   "file_extension": ".py",
   "mimetype": "text/x-python",
   "name": "python",
   "nbconvert_exporter": "python",
   "pygments_lexer": "ipython3",
   "version": "3.9.13"
  },
  "orig_nbformat": 4,
  "vscode": {
   "interpreter": {
    "hash": "949777d72b0d2535278d3dc13498b2535136f6dfe0678499012e853ee9abcab1"
   }
  }
 },
 "nbformat": 4,
 "nbformat_minor": 2
}
