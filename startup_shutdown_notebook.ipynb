{
 "cells": [
  {
   "cell_type": "code",
   "execution_count": 4,
   "metadata": {},
   "outputs": [],
   "source": [
    "import subprocess\n",
    "\n",
    "instances = [ \"control\", \"source\", \"sink\" ]"
   ]
  },
  {
   "cell_type": "code",
   "execution_count": 3,
   "metadata": {},
   "outputs": [
    {
     "name": "stdout",
     "output_type": "stream",
     "text": [
      "gcloud builds submit --config=testbench/control/cloudbuild.yaml .\n",
      "gcloud builds submit --config=testbench/source/cloudbuild.yaml .\n",
      "gcloud builds submit --config=testbench/sink/cloudbuild.yaml .\n"
     ]
    }
   ],
   "source": [
    "### Start all instances\n",
    "for instance in instances:\n",
    "    cloud_build_path = f\"testbench/{instance}/cloudbuild.yaml\"\n",
    "    command = f\"gcloud builds submit --config={cloud_build_path} .\"\n",
    "    print (command)"
   ]
  },
  {
   "cell_type": "code",
   "execution_count": null,
   "metadata": {},
   "outputs": [],
   "source": [
    "# Delete all instances\n",
    "for instance in instances:\n",
    "    command = f\"gcloud compute instances delete {instance} --zone=europe-west3-a\"\n",
    "    subprocess.run(command, shell=True, check=True)"
   ]
  }
 ],
 "metadata": {
  "kernelspec": {
   "display_name": "unikernel",
   "language": "python",
   "name": "python3"
  },
  "language_info": {
   "codemirror_mode": {
    "name": "ipython",
    "version": 3
   },
   "file_extension": ".py",
   "mimetype": "text/x-python",
   "name": "python",
   "nbconvert_exporter": "python",
   "pygments_lexer": "ipython3",
   "version": "3.9.15"
  },
  "orig_nbformat": 4,
  "vscode": {
   "interpreter": {
    "hash": "93582215d80c23309b984e04f31fb02d873f08885dc65d6e31e1df0414a32ca8"
   }
  }
 },
 "nbformat": 4,
 "nbformat_minor": 2
}
